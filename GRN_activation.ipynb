{
 "cells": [
  {
   "cell_type": "markdown",
   "metadata": {},
   "source": [
    "## This code performs whole-brain simulations where GRNs of different types are activated and the activity of all other neurons is recorded.\n",
    "\n",
    "### Simulations are based on the leaky integrate and fire model by Shiu et al. (bioRxiv, 2023). \n",
    "\n",
    "### This notebook is adapted from one generously shared by Philip Shiu et al. (https://github.com/philshiu/Drosophila_brain_model)"
   ]
  },
  {
   "cell_type": "code",
   "execution_count": 19,
   "metadata": {},
   "outputs": [],
   "source": [
    "from model import run_exp\n",
    "from model import default_params as params\n",
    "import utils as utl\n",
    "from brian2 import Hz\n",
    "\n",
    "config = {\n",
    "    'path_res'  : './results/connectome_paper',                     # directory to store results\n",
    "    'path_comp' : './2023_03_23_completeness_630_final.csv',        # csv of the complete list of Flywire neurons\n",
    "    'path_con'  : './2023_03_23_connectivity_630_final.parquet',    # connectivity data\n",
    "    'n_proc'    : -1,                                               # number of CPU cores (-1: use all)\n",
    "}"
   ]
  },
  {
   "cell_type": "markdown",
   "metadata": {},
   "source": [
    "## Underlying connectivity data\n",
    "The connectivity of the fly brain is stored in the folowing files:\n",
    "- neurons present: `config['path_comp']`\n",
    "- connectivity between neurons: `config['path_con]`\n",
    "\n",
    "## Model parameters\n",
    "The equation and constants for the leaky integrate and fire model are defined \n",
    "in the dictionary `default_params` in the beginning of the file `model.py`:\n",
    "\n",
    "```\n",
    "default_params = {\n",
    "    # trials\n",
    "    't_run'     : 1000 * ms,              # duration of trial\n",
    "    'n_run'     : 30,                     # number of runs\n",
    "\n",
    "    'v_0'       : -52 * mV,               # resting potential\n",
    "    'v_rst'     : -52 * mV,               # reset potential after spike\n",
    "    [...]\n",
    "```\n",
    "We can also change values\n",
    "and pass the modified dictionary to the model (see Experiment 1).\n",
    "\n",
    "## First, define each set of GRNs.\n",
    "## We are using the same neurons as for the connectome analyses."
   ]
  },
  {
   "cell_type": "code",
   "execution_count": 20,
   "metadata": {},
   "outputs": [],
   "source": [
    "# Sugar GRNs in left hemisphere\n",
    "neu_sugar_L = [\n",
    "    720575940610788069,\n",
    "    720575940611875570,\n",
    "    720575940612670570,\n",
    "    720575940613601698,\n",
    "    720575940616885538,\n",
    "    720575940617000768,\n",
    "    720575940620900446,\n",
    "    720575940621502051,\n",
    "    720575940621754367,\n",
    "    720575940624963786,\n",
    "    720575940628853239,\n",
    "    720575940629176663,\n",
    "    720575940630233916,\n",
    "    720575940630797113,\n",
    "    720575940632425919,\n",
    "    720575940632889389,\n",
    "    720575940633143833,\n",
    "    720575940637568838,\n",
    "    720575940638202345,\n",
    "    720575940639198653,\n",
    "    720575940639332736,\n",
    "    720575940640649691,\n",
    "    ]\n",
    "\n",
    "# Bitter GRNs in left hemisphere\n",
    "neu_bitter_L = [\n",
    "    720575940602353632,\n",
    "    720575940604027168,\n",
    "    720575940610259370,\n",
    "    720575940610481370,\n",
    "    720575940610483162,\n",
    "    720575940613061118,\n",
    "    720575940614281266,\n",
    "    720575940617094208,\n",
    "    720575940618600651,\n",
    "    720575940619028208,\n",
    "    720575940619197093,\n",
    "    720575940621008895,\n",
    "    720575940621778381,\n",
    "    720575940622298631,\n",
    "    720575940626287336,\n",
    "    720575940627578156,\n",
    "    720575940629146711,\n",
    "    720575940630195909,\n",
    "    720575940645743412,\n",
    "    720575940646212996,\n",
    "    ]\n",
    "\n",
    "# Water GRNs in left hemisphere\n",
    "neu_water_L = [\n",
    "    720575940606002609,\n",
    "    720575940612579053,\n",
    "    720575940612950568,\n",
    "    720575940613786774,\n",
    "    720575940613996959,\n",
    "    720575940616177458,\n",
    "    720575940617857694,\n",
    "    720575940622486922,\n",
    "    720575940622902535,\n",
    "    720575940625203504,\n",
    "    720575940625861168,\n",
    "    720575940629852866,\n",
    "    720575940630553415,\n",
    "    720575940631898285,\n",
    "    720575940634796536,\n",
    "    720575940635172191,\n",
    "    720575940644965399,\n",
    "    720575940660292225,\n",
    "    ]\n",
    "\n",
    "# IR94e GRNs in left hemisphere\n",
    "neu_IR94e_L = [\n",
    "    720575940610683315,\n",
    "    720575940612920386,\n",
    "    720575940614211295,\n",
    "    720575940621375231,\n",
    "    720575940624079544,\n",
    "    720575940626016017,\n",
    "    720575940628198503,\n",
    "    720575940631082124,\n",
    "    720575940638218173,\n",
    "    ]"
   ]
  },
  {
   "cell_type": "markdown",
   "metadata": {},
   "source": [
    "For an easier identification, we define also a mapping from the flywire IDs to custom names. The above neurons are calles sugar_1, sugar_2 etc:"
   ]
  },
  {
   "cell_type": "code",
   "execution_count": 21,
   "metadata": {},
   "outputs": [
    {
     "data": {
      "text/plain": [
       "{720575940610683315: 'IR94e_L_1',\n",
       " 720575940612920386: 'IR94e_L_2',\n",
       " 720575940614211295: 'IR94e_L_3',\n",
       " 720575940621375231: 'IR94e_L_4',\n",
       " 720575940624079544: 'IR94e_L_5',\n",
       " 720575940626016017: 'IR94e_L_6',\n",
       " 720575940628198503: 'IR94e_L_7',\n",
       " 720575940631082124: 'IR94e_L_8',\n",
       " 720575940638218173: 'IR94e_L_9'}"
      ]
     },
     "execution_count": 21,
     "metadata": {},
     "output_type": "execute_result"
    }
   ],
   "source": [
    "flyid2name_sugar = { f: 'sugar_L_{}'.format(i+1) for i, f in enumerate(neu_sugar_L) }\n",
    "flyid2name_bitter = { f: 'bitter_L_{}'.format(i+1) for i, f in enumerate(neu_bitter_L) }\n",
    "flyid2name_water = { f: 'water_L_{}'.format(i+1) for i, f in enumerate(neu_water_L) }\n",
    "flyid2name_IR94e = { f: 'IR94e_L_{}'.format(i+1) for i, f in enumerate(neu_IR94e_L) }\n",
    "\n",
    "# view example\n",
    "flyid2name_IR94e"
   ]
  },
  {
   "cell_type": "code",
   "execution_count": null,
   "metadata": {},
   "outputs": [],
   "source": []
  },
  {
   "cell_type": "markdown",
   "metadata": {},
   "source": [
    "# Running simulations\n",
    "## Background info:\n",
    "To run a simulation exciting these nerons we have to call `run_exp` supplying the following:\n",
    "- unique name for the simulation: `exp_name`\n",
    "- a list of neurons we want to stimulate: `neu_sugar`\n",
    "- the connectivity data: `config['path_comp']` and `config['path_con]`\n",
    "- path to store the output: `config['path_res']`\n",
    "- number of CPU cores use: `config['n_procs]`\n",
    "\n",
    "The `.parquet` file created during a simulation contains all spikes events of all neurons in the model.\n",
    "We load the data again from disk by passing a list of result files to the `utl.load_exps` function.\n",
    "\n",
    "The spike times can be converted to spike rates [Hz] via `utl.get_rate`, which requires the duration of each trial.\n",
    "`utl.get_rate` returns `pandas.DataFrame` objects:\n",
    "1. spike rate for each neuron (rows) in each experiment (column): `df_rate`\n",
    "2. standard deviation of rate across trials: `df_rate_std`\n",
    "\n",
    "For convenience, we can optionally pass the `flyid2name` dictionary to `utl.get_rate` in order to convert flywire IDs into\n",
    "meaningful names."
   ]
  },
  {
   "cell_type": "code",
   "execution_count": 22,
   "metadata": {},
   "outputs": [
    {
     "data": {
      "text/plain": [
       "{'t_run': 1. * second,\n",
       " 'n_run': 30,\n",
       " 'v_0': -52. * mvolt,\n",
       " 'v_rst': -52. * mvolt,\n",
       " 'v_th': -45. * mvolt,\n",
       " 't_mbr': 20. * msecond,\n",
       " 'tau': 5. * msecond,\n",
       " 't_rfc': 2.2 * msecond,\n",
       " 't_dly': 1.8 * msecond,\n",
       " 'w_syn': 275. * uvolt,\n",
       " 'r_poi': 150. * hertz,\n",
       " 'r_poi2': 0. * hertz,\n",
       " 'f_poi': 250,\n",
       " 'eqs': '\\ndv/dt = (v_0 - v + g) / t_mbr : volt (unless refractory)\\ndg/dt = -g / tau               : volt (unless refractory) \\nrfc                            : second\\n',\n",
       " 'eq_th': 'v > v_th',\n",
       " 'eq_rst': 'v = v_rst; w = 0; g = 0 * mV'}"
      ]
     },
     "execution_count": 22,
     "metadata": {},
     "output_type": "execute_result"
    }
   ],
   "source": [
    "#show default params\n",
    "params"
   ]
  },
  {
   "cell_type": "markdown",
   "metadata": {},
   "source": [
    "## Sugar GRN activation"
   ]
  },
  {
   "cell_type": "code",
   "execution_count": 41,
   "metadata": {},
   "outputs": [
    {
     "name": "stdout",
     "output_type": "stream",
     "text": [
      ">>> Skipping experiment sugarGRN_25Hz because results/connectome_paper/sugarGRN_25Hz.parquet exists and force_overwrite = False\n",
      ">>> Skipping experiment sugarGRN_50Hz because results/connectome_paper/sugarGRN_50Hz.parquet exists and force_overwrite = False\n",
      ">>> Experiment:     sugarGRN_75Hz\n",
      "    Output file:    results/connectome_paper/sugarGRN_75Hz.parquet\n",
      "    Excited neurons: 22\n"
     ]
    },
    {
     "name": "stderr",
     "output_type": "stream",
     "text": [
      "INFO       Cache size for target 'cython': 1056387166 MB.\n",
      "You can call clear_cache('cython') to delete all files from the cache or manually delete files in the '/Users/anitadevineni/Library/Caches/cython/brian_extensions' directory. [brian2]\n",
      "INFO       Cache size for target 'cython': 1056387166 MB.\n",
      "You can call clear_cache('cython') to delete all files from the cache or manually delete files in the '/Users/anitadevineni/Library/Caches/cython/brian_extensions' directory. [brian2]\n",
      "INFO       Cache size for target 'cython': 1056387166 MB.\n",
      "You can call clear_cache('cython') to delete all files from the cache or manually delete files in the '/Users/anitadevineni/Library/Caches/cython/brian_extensions' directory. [brian2]\n",
      "INFO       Cache size for target 'cython': 1056387166 MB.\n",
      "You can call clear_cache('cython') to delete all files from the cache or manually delete files in the '/Users/anitadevineni/Library/Caches/cython/brian_extensions' directory. [brian2]\n",
      "INFO       Cache size for target 'cython': 1056387166 MB.\n",
      "You can call clear_cache('cython') to delete all files from the cache or manually delete files in the '/Users/anitadevineni/Library/Caches/cython/brian_extensions' directory. [brian2]\n",
      "INFO       Cache size for target 'cython': 1056387166 MB.\n",
      "You can call clear_cache('cython') to delete all files from the cache or manually delete files in the '/Users/anitadevineni/Library/Caches/cython/brian_extensions' directory. [brian2]\n",
      "INFO       Cache size for target 'cython': 1056387166 MB.\n",
      "You can call clear_cache('cython') to delete all files from the cache or manually delete files in the '/Users/anitadevineni/Library/Caches/cython/brian_extensions' directory. [brian2]\n",
      "INFO       Cache size for target 'cython': 1056387166 MB.\n",
      "You can call clear_cache('cython') to delete all files from the cache or manually delete files in the '/Users/anitadevineni/Library/Caches/cython/brian_extensions' directory. [brian2]\n"
     ]
    },
    {
     "name": "stdout",
     "output_type": "stream",
     "text": [
      "    Elapsed time:   299 s\n"
     ]
    },
    {
     "name": "stderr",
     "output_type": "stream",
     "text": [
      "WARNING    /Users/anitadevineni/opt/anaconda3/envs/brian2/lib/python3.10/site-packages/pyarrow/pandas_compat.py:373: FutureWarning: is_sparse is deprecated and will be removed in a future version. Check `isinstance(dtype, pd.SparseDtype)` instead.\n",
      "  if _pandas_api.is_sparse(col):\n",
      " [py.warnings]\n"
     ]
    },
    {
     "name": "stdout",
     "output_type": "stream",
     "text": [
      ">>> Experiment:     sugarGRN_100Hz\n",
      "    Output file:    results/connectome_paper/sugarGRN_100Hz.parquet\n",
      "    Excited neurons: 22\n",
      "    Elapsed time:   268 s\n"
     ]
    },
    {
     "name": "stderr",
     "output_type": "stream",
     "text": [
      "WARNING    /Users/anitadevineni/opt/anaconda3/envs/brian2/lib/python3.10/site-packages/pyarrow/pandas_compat.py:373: FutureWarning: is_sparse is deprecated and will be removed in a future version. Check `isinstance(dtype, pd.SparseDtype)` instead.\n",
      "  if _pandas_api.is_sparse(col):\n",
      " [py.warnings]\n"
     ]
    },
    {
     "name": "stdout",
     "output_type": "stream",
     "text": [
      ">>> Experiment:     sugarGRN_125Hz\n",
      "    Output file:    results/connectome_paper/sugarGRN_125Hz.parquet\n",
      "    Excited neurons: 22\n",
      "    Elapsed time:   315 s\n"
     ]
    },
    {
     "name": "stderr",
     "output_type": "stream",
     "text": [
      "WARNING    /Users/anitadevineni/opt/anaconda3/envs/brian2/lib/python3.10/site-packages/pyarrow/pandas_compat.py:373: FutureWarning: is_sparse is deprecated and will be removed in a future version. Check `isinstance(dtype, pd.SparseDtype)` instead.\n",
      "  if _pandas_api.is_sparse(col):\n",
      " [py.warnings]\n"
     ]
    },
    {
     "name": "stdout",
     "output_type": "stream",
     "text": [
      ">>> Experiment:     sugarGRN_150Hz\n",
      "    Output file:    results/connectome_paper/sugarGRN_150Hz.parquet\n",
      "    Excited neurons: 22\n",
      "    Elapsed time:   269 s\n"
     ]
    },
    {
     "name": "stderr",
     "output_type": "stream",
     "text": [
      "WARNING    /Users/anitadevineni/opt/anaconda3/envs/brian2/lib/python3.10/site-packages/pyarrow/pandas_compat.py:373: FutureWarning: is_sparse is deprecated and will be removed in a future version. Check `isinstance(dtype, pd.SparseDtype)` instead.\n",
      "  if _pandas_api.is_sparse(col):\n",
      " [py.warnings]\n"
     ]
    },
    {
     "name": "stdout",
     "output_type": "stream",
     "text": [
      ">>> Experiment:     sugarGRN_175Hz\n",
      "    Output file:    results/connectome_paper/sugarGRN_175Hz.parquet\n",
      "    Excited neurons: 22\n",
      "    Elapsed time:   295 s\n"
     ]
    },
    {
     "name": "stderr",
     "output_type": "stream",
     "text": [
      "WARNING    /Users/anitadevineni/opt/anaconda3/envs/brian2/lib/python3.10/site-packages/pyarrow/pandas_compat.py:373: FutureWarning: is_sparse is deprecated and will be removed in a future version. Check `isinstance(dtype, pd.SparseDtype)` instead.\n",
      "  if _pandas_api.is_sparse(col):\n",
      " [py.warnings]\n"
     ]
    },
    {
     "name": "stdout",
     "output_type": "stream",
     "text": [
      ">>> Experiment:     sugarGRN_200Hz\n",
      "    Output file:    results/connectome_paper/sugarGRN_200Hz.parquet\n",
      "    Excited neurons: 22\n",
      "    Elapsed time:   200 s\n"
     ]
    },
    {
     "name": "stderr",
     "output_type": "stream",
     "text": [
      "WARNING    /Users/anitadevineni/opt/anaconda3/envs/brian2/lib/python3.10/site-packages/pyarrow/pandas_compat.py:373: FutureWarning: is_sparse is deprecated and will be removed in a future version. Check `isinstance(dtype, pd.SparseDtype)` instead.\n",
      "  if _pandas_api.is_sparse(col):\n",
      " [py.warnings]\n"
     ]
    }
   ],
   "source": [
    "# Run simulation at diff stim intensities\n",
    "\n",
    "for stim_rate in [25,50,75,100,125,150,175,200]: \n",
    "    \n",
    "    prefix = 'sugarGRN_' + str(stim_rate) + 'Hz'\n",
    "    params['r_poi'] = stim_rate * Hz\n",
    "    run_exp(exp_name=prefix, neu_exc=neu_sugar_L, params=params, **config)\n",
    "    \n",
    "    # extract results\n",
    "    datafilename = './results/connectome_paper/' + prefix + '.parquet'\n",
    "    df_spike = utl.load_exps([datafilename])\n",
    "    df_rate, df_rate_std = utl.get_rate(df_spike, t_run=params['t_run'], n_run=params['n_run'], flyid2name=flyid2name_sugar)\n",
    "    \n",
    "    # save dataframes to csv\n",
    "    savepath = 'results/connectome_paper/'\n",
    "    df_rate.fillna(0).to_csv(savepath + prefix + '_rates.csv')\n",
    "    df_rate_std.fillna(0).to_csv(savepath + prefix + '_std.csv')"
   ]
  },
  {
   "cell_type": "markdown",
   "metadata": {},
   "source": [
    "## Bitter GRN activation"
   ]
  },
  {
   "cell_type": "code",
   "execution_count": 42,
   "metadata": {},
   "outputs": [
    {
     "name": "stdout",
     "output_type": "stream",
     "text": [
      ">>> Experiment:     bitterGRN_25Hz\n",
      "    Output file:    results/connectome_paper/bitterGRN_25Hz.parquet\n",
      "    Excited neurons: 20\n"
     ]
    },
    {
     "name": "stderr",
     "output_type": "stream",
     "text": [
      "WARNING    /Users/anitadevineni/opt/anaconda3/envs/brian2/lib/python3.10/site-packages/pyarrow/pandas_compat.py:373: FutureWarning: is_sparse is deprecated and will be removed in a future version. Check `isinstance(dtype, pd.SparseDtype)` instead.\n",
      "  if _pandas_api.is_sparse(col):\n",
      " [py.warnings]\n"
     ]
    },
    {
     "name": "stdout",
     "output_type": "stream",
     "text": [
      "    Elapsed time:   268 s\n",
      ">>> Experiment:     bitterGRN_50Hz\n",
      "    Output file:    results/connectome_paper/bitterGRN_50Hz.parquet\n",
      "    Excited neurons: 20\n",
      "    Elapsed time:   319 s\n"
     ]
    },
    {
     "name": "stderr",
     "output_type": "stream",
     "text": [
      "WARNING    /Users/anitadevineni/opt/anaconda3/envs/brian2/lib/python3.10/site-packages/pyarrow/pandas_compat.py:373: FutureWarning: is_sparse is deprecated and will be removed in a future version. Check `isinstance(dtype, pd.SparseDtype)` instead.\n",
      "  if _pandas_api.is_sparse(col):\n",
      " [py.warnings]\n"
     ]
    },
    {
     "name": "stdout",
     "output_type": "stream",
     "text": [
      ">>> Experiment:     bitterGRN_75Hz\n",
      "    Output file:    results/connectome_paper/bitterGRN_75Hz.parquet\n",
      "    Excited neurons: 20\n",
      "    Elapsed time:   329 s\n"
     ]
    },
    {
     "name": "stderr",
     "output_type": "stream",
     "text": [
      "WARNING    /Users/anitadevineni/opt/anaconda3/envs/brian2/lib/python3.10/site-packages/pyarrow/pandas_compat.py:373: FutureWarning: is_sparse is deprecated and will be removed in a future version. Check `isinstance(dtype, pd.SparseDtype)` instead.\n",
      "  if _pandas_api.is_sparse(col):\n",
      " [py.warnings]\n"
     ]
    },
    {
     "name": "stdout",
     "output_type": "stream",
     "text": [
      ">>> Experiment:     bitterGRN_100Hz\n",
      "    Output file:    results/connectome_paper/bitterGRN_100Hz.parquet\n",
      "    Excited neurons: 20\n",
      "    Elapsed time:   326 s\n"
     ]
    },
    {
     "name": "stderr",
     "output_type": "stream",
     "text": [
      "WARNING    /Users/anitadevineni/opt/anaconda3/envs/brian2/lib/python3.10/site-packages/pyarrow/pandas_compat.py:373: FutureWarning: is_sparse is deprecated and will be removed in a future version. Check `isinstance(dtype, pd.SparseDtype)` instead.\n",
      "  if _pandas_api.is_sparse(col):\n",
      " [py.warnings]\n"
     ]
    },
    {
     "name": "stdout",
     "output_type": "stream",
     "text": [
      ">>> Experiment:     bitterGRN_125Hz\n",
      "    Output file:    results/connectome_paper/bitterGRN_125Hz.parquet\n",
      "    Excited neurons: 20\n",
      "    Elapsed time:   315 s\n"
     ]
    },
    {
     "name": "stderr",
     "output_type": "stream",
     "text": [
      "WARNING    /Users/anitadevineni/opt/anaconda3/envs/brian2/lib/python3.10/site-packages/pyarrow/pandas_compat.py:373: FutureWarning: is_sparse is deprecated and will be removed in a future version. Check `isinstance(dtype, pd.SparseDtype)` instead.\n",
      "  if _pandas_api.is_sparse(col):\n",
      " [py.warnings]\n"
     ]
    },
    {
     "name": "stdout",
     "output_type": "stream",
     "text": [
      ">>> Experiment:     bitterGRN_150Hz\n",
      "    Output file:    results/connectome_paper/bitterGRN_150Hz.parquet\n",
      "    Excited neurons: 20\n",
      "    Elapsed time:   372 s\n"
     ]
    },
    {
     "name": "stderr",
     "output_type": "stream",
     "text": [
      "WARNING    /Users/anitadevineni/opt/anaconda3/envs/brian2/lib/python3.10/site-packages/pyarrow/pandas_compat.py:373: FutureWarning: is_sparse is deprecated and will be removed in a future version. Check `isinstance(dtype, pd.SparseDtype)` instead.\n",
      "  if _pandas_api.is_sparse(col):\n",
      " [py.warnings]\n"
     ]
    },
    {
     "name": "stdout",
     "output_type": "stream",
     "text": [
      ">>> Experiment:     bitterGRN_175Hz\n",
      "    Output file:    results/connectome_paper/bitterGRN_175Hz.parquet\n",
      "    Excited neurons: 20\n",
      "    Elapsed time:   376 s\n"
     ]
    },
    {
     "name": "stderr",
     "output_type": "stream",
     "text": [
      "WARNING    /Users/anitadevineni/opt/anaconda3/envs/brian2/lib/python3.10/site-packages/pyarrow/pandas_compat.py:373: FutureWarning: is_sparse is deprecated and will be removed in a future version. Check `isinstance(dtype, pd.SparseDtype)` instead.\n",
      "  if _pandas_api.is_sparse(col):\n",
      " [py.warnings]\n"
     ]
    },
    {
     "name": "stdout",
     "output_type": "stream",
     "text": [
      ">>> Experiment:     bitterGRN_200Hz\n",
      "    Output file:    results/connectome_paper/bitterGRN_200Hz.parquet\n",
      "    Excited neurons: 20\n",
      "    Elapsed time:   325 s\n"
     ]
    },
    {
     "name": "stderr",
     "output_type": "stream",
     "text": [
      "WARNING    /Users/anitadevineni/opt/anaconda3/envs/brian2/lib/python3.10/site-packages/pyarrow/pandas_compat.py:373: FutureWarning: is_sparse is deprecated and will be removed in a future version. Check `isinstance(dtype, pd.SparseDtype)` instead.\n",
      "  if _pandas_api.is_sparse(col):\n",
      " [py.warnings]\n"
     ]
    }
   ],
   "source": [
    "# Run simulation at diff stim intensities\n",
    "\n",
    "for stim_rate in [25,50,75,100,125,150,175,200]: \n",
    "    \n",
    "    prefix = 'bitterGRN_' + str(stim_rate) + 'Hz'\n",
    "    params['r_poi'] = stim_rate * Hz\n",
    "    run_exp(exp_name=prefix, neu_exc=neu_bitter_L, params=params, **config)\n",
    "    \n",
    "    # extract results\n",
    "    datafilename = './results/connectome_paper/' + prefix + '.parquet'\n",
    "    df_spike = utl.load_exps([datafilename])\n",
    "    df_rate, df_rate_std = utl.get_rate(df_spike, t_run=params['t_run'], n_run=params['n_run'], flyid2name=flyid2name_bitter)\n",
    "    \n",
    "    # save dataframes to csv\n",
    "    savepath = 'results/connectome_paper/'\n",
    "    df_rate.fillna(0).to_csv(savepath + prefix + '_rates.csv')\n",
    "    df_rate_std.fillna(0).to_csv(savepath + prefix + '_std.csv')"
   ]
  },
  {
   "cell_type": "markdown",
   "metadata": {},
   "source": [
    "## Water GRN activation"
   ]
  },
  {
   "cell_type": "code",
   "execution_count": 43,
   "metadata": {},
   "outputs": [
    {
     "name": "stdout",
     "output_type": "stream",
     "text": [
      ">>> Experiment:     waterGRN_25Hz\n",
      "    Output file:    results/connectome_paper/waterGRN_25Hz.parquet\n",
      "    Excited neurons: 18\n",
      "    Elapsed time:   358 s\n"
     ]
    },
    {
     "name": "stderr",
     "output_type": "stream",
     "text": [
      "WARNING    /Users/anitadevineni/opt/anaconda3/envs/brian2/lib/python3.10/site-packages/pyarrow/pandas_compat.py:373: FutureWarning: is_sparse is deprecated and will be removed in a future version. Check `isinstance(dtype, pd.SparseDtype)` instead.\n",
      "  if _pandas_api.is_sparse(col):\n",
      " [py.warnings]\n"
     ]
    },
    {
     "name": "stdout",
     "output_type": "stream",
     "text": [
      ">>> Experiment:     waterGRN_50Hz\n",
      "    Output file:    results/connectome_paper/waterGRN_50Hz.parquet\n",
      "    Excited neurons: 18\n",
      "    Elapsed time:   179 s\n"
     ]
    },
    {
     "name": "stderr",
     "output_type": "stream",
     "text": [
      "WARNING    /Users/anitadevineni/opt/anaconda3/envs/brian2/lib/python3.10/site-packages/pyarrow/pandas_compat.py:373: FutureWarning: is_sparse is deprecated and will be removed in a future version. Check `isinstance(dtype, pd.SparseDtype)` instead.\n",
      "  if _pandas_api.is_sparse(col):\n",
      " [py.warnings]\n"
     ]
    },
    {
     "name": "stdout",
     "output_type": "stream",
     "text": [
      ">>> Experiment:     waterGRN_75Hz\n",
      "    Output file:    results/connectome_paper/waterGRN_75Hz.parquet\n",
      "    Excited neurons: 18\n",
      "    Elapsed time:   354 s\n"
     ]
    },
    {
     "name": "stderr",
     "output_type": "stream",
     "text": [
      "WARNING    /Users/anitadevineni/opt/anaconda3/envs/brian2/lib/python3.10/site-packages/pyarrow/pandas_compat.py:373: FutureWarning: is_sparse is deprecated and will be removed in a future version. Check `isinstance(dtype, pd.SparseDtype)` instead.\n",
      "  if _pandas_api.is_sparse(col):\n",
      " [py.warnings]\n"
     ]
    },
    {
     "name": "stdout",
     "output_type": "stream",
     "text": [
      ">>> Experiment:     waterGRN_100Hz\n",
      "    Output file:    results/connectome_paper/waterGRN_100Hz.parquet\n",
      "    Excited neurons: 18\n",
      "    Elapsed time:   296 s\n"
     ]
    },
    {
     "name": "stderr",
     "output_type": "stream",
     "text": [
      "WARNING    /Users/anitadevineni/opt/anaconda3/envs/brian2/lib/python3.10/site-packages/pyarrow/pandas_compat.py:373: FutureWarning: is_sparse is deprecated and will be removed in a future version. Check `isinstance(dtype, pd.SparseDtype)` instead.\n",
      "  if _pandas_api.is_sparse(col):\n",
      " [py.warnings]\n"
     ]
    },
    {
     "name": "stdout",
     "output_type": "stream",
     "text": [
      ">>> Experiment:     waterGRN_125Hz\n",
      "    Output file:    results/connectome_paper/waterGRN_125Hz.parquet\n",
      "    Excited neurons: 18\n"
     ]
    },
    {
     "name": "stderr",
     "output_type": "stream",
     "text": [
      "WARNING    /Users/anitadevineni/opt/anaconda3/envs/brian2/lib/python3.10/site-packages/joblib/externals/loky/process_executor.py:700: UserWarning: A worker stopped while some jobs were given to the executor. This can be caused by a too short worker timeout or by a memory leak.\n",
      "  warnings.warn(\n",
      " [py.warnings]\n",
      "INFO       Cache size for target 'cython': 1226447009 MB.\n",
      "You can call clear_cache('cython') to delete all files from the cache or manually delete files in the '/Users/anitadevineni/Library/Caches/cython/brian_extensions' directory. [brian2]\n"
     ]
    },
    {
     "name": "stdout",
     "output_type": "stream",
     "text": [
      "    Elapsed time:   322 s\n"
     ]
    },
    {
     "name": "stderr",
     "output_type": "stream",
     "text": [
      "WARNING    /Users/anitadevineni/opt/anaconda3/envs/brian2/lib/python3.10/site-packages/pyarrow/pandas_compat.py:373: FutureWarning: is_sparse is deprecated and will be removed in a future version. Check `isinstance(dtype, pd.SparseDtype)` instead.\n",
      "  if _pandas_api.is_sparse(col):\n",
      " [py.warnings]\n"
     ]
    },
    {
     "name": "stdout",
     "output_type": "stream",
     "text": [
      ">>> Experiment:     waterGRN_150Hz\n",
      "    Output file:    results/connectome_paper/waterGRN_150Hz.parquet\n",
      "    Excited neurons: 18\n",
      "    Elapsed time:   260 s\n"
     ]
    },
    {
     "name": "stderr",
     "output_type": "stream",
     "text": [
      "WARNING    /Users/anitadevineni/opt/anaconda3/envs/brian2/lib/python3.10/site-packages/pyarrow/pandas_compat.py:373: FutureWarning: is_sparse is deprecated and will be removed in a future version. Check `isinstance(dtype, pd.SparseDtype)` instead.\n",
      "  if _pandas_api.is_sparse(col):\n",
      " [py.warnings]\n"
     ]
    },
    {
     "name": "stdout",
     "output_type": "stream",
     "text": [
      ">>> Experiment:     waterGRN_175Hz\n",
      "    Output file:    results/connectome_paper/waterGRN_175Hz.parquet\n",
      "    Excited neurons: 18\n",
      "    Elapsed time:   294 s\n"
     ]
    },
    {
     "name": "stderr",
     "output_type": "stream",
     "text": [
      "WARNING    /Users/anitadevineni/opt/anaconda3/envs/brian2/lib/python3.10/site-packages/pyarrow/pandas_compat.py:373: FutureWarning: is_sparse is deprecated and will be removed in a future version. Check `isinstance(dtype, pd.SparseDtype)` instead.\n",
      "  if _pandas_api.is_sparse(col):\n",
      " [py.warnings]\n"
     ]
    },
    {
     "name": "stdout",
     "output_type": "stream",
     "text": [
      ">>> Experiment:     waterGRN_200Hz\n",
      "    Output file:    results/connectome_paper/waterGRN_200Hz.parquet\n",
      "    Excited neurons: 18\n",
      "    Elapsed time:   377 s\n"
     ]
    },
    {
     "name": "stderr",
     "output_type": "stream",
     "text": [
      "WARNING    /Users/anitadevineni/opt/anaconda3/envs/brian2/lib/python3.10/site-packages/pyarrow/pandas_compat.py:373: FutureWarning: is_sparse is deprecated and will be removed in a future version. Check `isinstance(dtype, pd.SparseDtype)` instead.\n",
      "  if _pandas_api.is_sparse(col):\n",
      " [py.warnings]\n"
     ]
    }
   ],
   "source": [
    "# Run simulation at diff stim intensities\n",
    "\n",
    "for stim_rate in [25,50,75,100,125,150,175,200]: \n",
    "    \n",
    "    prefix = 'waterGRN_' + str(stim_rate) + 'Hz'\n",
    "    params['r_poi'] = stim_rate * Hz\n",
    "    run_exp(exp_name=prefix, neu_exc=neu_water_L, params=params, **config)\n",
    "    \n",
    "    # extract results\n",
    "    datafilename = './results/connectome_paper/' + prefix + '.parquet'\n",
    "    df_spike = utl.load_exps([datafilename])\n",
    "    df_rate, df_rate_std = utl.get_rate(df_spike, t_run=params['t_run'], n_run=params['n_run'], flyid2name=flyid2name_water)\n",
    "    \n",
    "    # save dataframes to csv\n",
    "    savepath = 'results/connectome_paper/'\n",
    "    df_rate.fillna(0).to_csv(savepath + prefix + '_rates.csv')\n",
    "    df_rate_std.fillna(0).to_csv(savepath + prefix + '_std.csv')"
   ]
  },
  {
   "cell_type": "markdown",
   "metadata": {},
   "source": [
    "## IR94e GRN activation"
   ]
  },
  {
   "cell_type": "code",
   "execution_count": 45,
   "metadata": {},
   "outputs": [
    {
     "name": "stdout",
     "output_type": "stream",
     "text": [
      ">>> Skipping experiment IR94eGRN_25Hz because results/connectome_paper/IR94eGRN_25Hz.parquet exists and force_overwrite = False\n",
      ">>> Skipping experiment IR94eGRN_50Hz because results/connectome_paper/IR94eGRN_50Hz.parquet exists and force_overwrite = False\n",
      ">>> Skipping experiment IR94eGRN_75Hz because results/connectome_paper/IR94eGRN_75Hz.parquet exists and force_overwrite = False\n",
      ">>> Skipping experiment IR94eGRN_100Hz because results/connectome_paper/IR94eGRN_100Hz.parquet exists and force_overwrite = False\n",
      ">>> Skipping experiment IR94eGRN_125Hz because results/connectome_paper/IR94eGRN_125Hz.parquet exists and force_overwrite = False\n",
      ">>> Experiment:     IR94eGRN_150Hz\n",
      "    Output file:    results/connectome_paper/IR94eGRN_150Hz.parquet\n",
      "    Excited neurons: 9\n"
     ]
    },
    {
     "name": "stderr",
     "output_type": "stream",
     "text": [
      "INFO       Cache size for target 'cython': 1294011045 MB.\n",
      "You can call clear_cache('cython') to delete all files from the cache or manually delete files in the '/Users/anitadevineni/Library/Caches/cython/brian_extensions' directory. [brian2]\n",
      "INFO       Cache size for target 'cython': 1294011045 MB.\n",
      "You can call clear_cache('cython') to delete all files from the cache or manually delete files in the '/Users/anitadevineni/Library/Caches/cython/brian_extensions' directory. [brian2]\n",
      "INFO       Cache size for target 'cython': 1294011045 MB.\n",
      "You can call clear_cache('cython') to delete all files from the cache or manually delete files in the '/Users/anitadevineni/Library/Caches/cython/brian_extensions' directory. [brian2]\n",
      "INFO       Cache size for target 'cython': 1294011045 MB.\n",
      "You can call clear_cache('cython') to delete all files from the cache or manually delete files in the '/Users/anitadevineni/Library/Caches/cython/brian_extensions' directory. [brian2]\n",
      "INFO       Cache size for target 'cython': 1294011045 MB.\n",
      "You can call clear_cache('cython') to delete all files from the cache or manually delete files in the '/Users/anitadevineni/Library/Caches/cython/brian_extensions' directory. [brian2]\n",
      "INFO       Cache size for target 'cython': 1294011045 MB.\n",
      "You can call clear_cache('cython') to delete all files from the cache or manually delete files in the '/Users/anitadevineni/Library/Caches/cython/brian_extensions' directory. [brian2]\n",
      "INFO       Cache size for target 'cython': 1294011045 MB.\n",
      "You can call clear_cache('cython') to delete all files from the cache or manually delete files in the '/Users/anitadevineni/Library/Caches/cython/brian_extensions' directory. [brian2]\n",
      "INFO       Cache size for target 'cython': 1294011045 MB.\n",
      "You can call clear_cache('cython') to delete all files from the cache or manually delete files in the '/Users/anitadevineni/Library/Caches/cython/brian_extensions' directory. [brian2]\n"
     ]
    },
    {
     "name": "stdout",
     "output_type": "stream",
     "text": [
      "    Elapsed time:   211 s\n"
     ]
    },
    {
     "name": "stderr",
     "output_type": "stream",
     "text": [
      "WARNING    /Users/anitadevineni/opt/anaconda3/envs/brian2/lib/python3.10/site-packages/pyarrow/pandas_compat.py:373: FutureWarning: is_sparse is deprecated and will be removed in a future version. Check `isinstance(dtype, pd.SparseDtype)` instead.\n",
      "  if _pandas_api.is_sparse(col):\n",
      " [py.warnings]\n"
     ]
    },
    {
     "name": "stdout",
     "output_type": "stream",
     "text": [
      ">>> Experiment:     IR94eGRN_175Hz\n",
      "    Output file:    results/connectome_paper/IR94eGRN_175Hz.parquet\n",
      "    Excited neurons: 9\n",
      "    Elapsed time:   199 s\n"
     ]
    },
    {
     "name": "stderr",
     "output_type": "stream",
     "text": [
      "WARNING    /Users/anitadevineni/opt/anaconda3/envs/brian2/lib/python3.10/site-packages/pyarrow/pandas_compat.py:373: FutureWarning: is_sparse is deprecated and will be removed in a future version. Check `isinstance(dtype, pd.SparseDtype)` instead.\n",
      "  if _pandas_api.is_sparse(col):\n",
      " [py.warnings]\n"
     ]
    },
    {
     "name": "stdout",
     "output_type": "stream",
     "text": [
      ">>> Experiment:     IR94eGRN_200Hz\n",
      "    Output file:    results/connectome_paper/IR94eGRN_200Hz.parquet\n",
      "    Excited neurons: 9\n",
      "    Elapsed time:   191 s\n"
     ]
    },
    {
     "name": "stderr",
     "output_type": "stream",
     "text": [
      "WARNING    /Users/anitadevineni/opt/anaconda3/envs/brian2/lib/python3.10/site-packages/pyarrow/pandas_compat.py:373: FutureWarning: is_sparse is deprecated and will be removed in a future version. Check `isinstance(dtype, pd.SparseDtype)` instead.\n",
      "  if _pandas_api.is_sparse(col):\n",
      " [py.warnings]\n"
     ]
    }
   ],
   "source": [
    "# Run simulation at diff stim intensities\n",
    "\n",
    "for stim_rate in [25,50,75,100,125,150,175,200]: \n",
    "    \n",
    "    prefix = 'IR94eGRN_' + str(stim_rate) + 'Hz'\n",
    "    params['r_poi'] = stim_rate * Hz\n",
    "    run_exp(exp_name=prefix, neu_exc=neu_IR94e_L, params=params, **config)\n",
    "    \n",
    "    # extract results\n",
    "    datafilename = './results/connectome_paper/' + prefix + '.parquet'\n",
    "    df_spike = utl.load_exps([datafilename])\n",
    "    df_rate, df_rate_std = utl.get_rate(df_spike, t_run=params['t_run'], n_run=params['n_run'], flyid2name=flyid2name_IR94e)\n",
    "    \n",
    "    # save dataframes to csv\n",
    "    savepath = 'results/connectome_paper/'\n",
    "    df_rate.fillna(0).to_csv(savepath + prefix + '_rates.csv')\n",
    "    df_rate_std.fillna(0).to_csv(savepath + prefix + '_std.csv')"
   ]
  },
  {
   "cell_type": "code",
   "execution_count": null,
   "metadata": {},
   "outputs": [],
   "source": []
  }
 ],
 "metadata": {
  "kernelspec": {
   "display_name": "Python 3",
   "language": "python",
   "name": "python3"
  },
  "language_info": {
   "codemirror_mode": {
    "name": "ipython",
    "version": 3
   },
   "file_extension": ".py",
   "mimetype": "text/x-python",
   "name": "python",
   "nbconvert_exporter": "python",
   "pygments_lexer": "ipython3",
   "version": "3.8.5"
  }
 },
 "nbformat": 4,
 "nbformat_minor": 4
}
